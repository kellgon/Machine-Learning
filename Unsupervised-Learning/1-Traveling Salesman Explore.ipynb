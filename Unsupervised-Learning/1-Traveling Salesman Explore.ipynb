{
 "cells": [
  {
   "cell_type": "markdown",
   "metadata": {},
   "source": [
    "# Problem 1 - Traveling Salesperson"
   ]
  },
  {
   "cell_type": "code",
   "execution_count": 1,
   "metadata": {},
   "outputs": [
    {
     "name": "stderr",
     "output_type": "stream",
     "text": [
      "/home/kellgon/.local/lib/python3.6/site-packages/sklearn/externals/six.py:31: FutureWarning: The module is deprecated in version 0.21 and will be removed in version 0.23 since we've dropped support for Python 2.7. Please rely on the official version of six (https://pypi.org/project/six/).\n",
      "  \"(https://pypi.org/project/six/).\", FutureWarning)\n"
     ]
    },
    {
     "name": "stdout",
     "output_type": "stream",
     "text": [
      "16\n"
     ]
    }
   ],
   "source": [
    "import mlrose\n",
    "import numpy as np\n",
    "import pandas as pd\n",
    "from sklearn import metrics\n",
    "from matplotlib import pyplot as plt\n",
    "%matplotlib inline\n",
    "\n",
    "##OPTION 1, Coordinates\n",
    "# Create list of city coordinates\n",
    "coords_list = [(1, 1), (4, 2), (5, 2), (6, 4), (4, 4), (3, 6), (1, 5), (2, 3),(11, 11), (14, 12), (15, 12), (16, 14), (14, 14), (13, 16), (11, 15), (12, 13)]\n",
    "\n",
    "# Initialize fitness function object using coords_list\n",
    "fitness_coords = mlrose.TravellingSales(coords = coords_list)\n",
    "\n",
    "#Define optimization problem object\n",
    "problem_fit_coord = mlrose.TSPOpt(length = len(coords_list), coords = coords_list, maximize=False)\n",
    "print(len(coords_list))"
   ]
  },
  {
   "cell_type": "markdown",
   "metadata": {},
   "source": [
    "# Genetic"
   ]
  },
  {
   "cell_type": "code",
   "execution_count": null,
   "metadata": {},
   "outputs": [
    {
     "name": "stdout",
     "output_type": "stream",
     "text": [
      "Mutation =  0.1\n",
      "[14 15 12  8  3  6  5  2  1  4  0  7 10 11  9 13]\n",
      "65.83809102607805\n",
      "Mutation =  0.2\n",
      "[ 8  3  4  0  1  2  7  5  6 13 14  9 11 12 10 15]\n",
      "62.78823691279976\n",
      "Mutation =  0.3\n",
      "[ 4  3  2  1  0  7  6  5 13 12 14  8 10  9 11 15]\n",
      "62.763263786340474\n"
     ]
    }
   ],
   "source": [
    "# define the parameter values that should be searched\n",
    "pop_size=200\n",
    "mutation_prob= 0.1\n",
    "\n",
    "\n",
    "best_state, best_fitness = mlrose.genetic_alg(problem_fit_coord, mutation_prob = mutation_prob, pop_size=pop_size,\n",
    "                                              max_attempts = 1000, random_state = 3)\n",
    "print(\"Mutation = \", mutation_prob)\n",
    "print(best_state)\n",
    "print(best_fitness)\n",
    "\n",
    "#################\n",
    "mutation_prob= 0.2\n",
    "\n",
    "best_state, best_fitness = mlrose.genetic_alg(problem_fit_coord, mutation_prob = mutation_prob, pop_size=pop_size,\n",
    "                                              max_attempts = 1000, random_state = 3)\n",
    "print(\"Mutation = \", mutation_prob)\n",
    "print(best_state)\n",
    "print(best_fitness)\n",
    "\n",
    "#################\n",
    "mutation_prob= 0.3\n",
    "\n",
    "best_state, best_fitness = mlrose.genetic_alg(problem_fit_coord, mutation_prob = mutation_prob, pop_size=pop_size,\n",
    "                                              max_attempts = 1000, random_state = 3)\n",
    "print(\"Mutation = \", mutation_prob)\n",
    "print(best_state)\n",
    "print(best_fitness)\n",
    "\n",
    "#################\n",
    "mutation_prob= 0.4\n",
    "\n",
    "best_state, best_fitness = mlrose.genetic_alg(problem_fit_coord, mutation_prob = mutation_prob, pop_size=pop_size,\n",
    "                                              max_attempts = 1000, random_state = 3)\n",
    "print(\"Mutation = \", mutation_prob)\n",
    "print(best_state)\n",
    "print(best_fitness)"
   ]
  },
  {
   "cell_type": "code",
   "execution_count": null,
   "metadata": {},
   "outputs": [],
   "source": [
    "plt.style.use('seaborn')\n",
    "plt.plot(train_sizes, train_scores_mean, label='Training error')\n",
    "\n",
    "\n",
    "plt.ylabel('Accuracy', fontsize=14)\n",
    "plt.xlabel('Training set size', fontsize = 14)\n",
    "plt.title('Learning Curves for KNN', fontsize=18, y=1.03)\n",
    "plt.legend()"
   ]
  },
  {
   "cell_type": "markdown",
   "metadata": {},
   "source": [
    "# Random Hill"
   ]
  },
  {
   "cell_type": "code",
   "execution_count": null,
   "metadata": {},
   "outputs": [],
   "source": [
    "# Solve problem using the random hill climb\n",
    "best_state, best_fitness = mlrose.random_hill_climb(problem_fit_coord,\n",
    "                                              max_attempts = 2000, random_state = 3)\n",
    "\n",
    "print(best_state)\n",
    "print(best_fitness)"
   ]
  },
  {
   "cell_type": "markdown",
   "metadata": {},
   "source": [
    "# Simulated Annealing"
   ]
  },
  {
   "cell_type": "code",
   "execution_count": 31,
   "metadata": {},
   "outputs": [
    {
     "name": "stdout",
     "output_type": "stream",
     "text": [
      "Simulated annealing with GeomDecay\n",
      "[ 2  1  4  7  0  6  5 14 13 12 11 10  9 15  8  3]\n",
      "50.76853164333302\n",
      "Simulated annealing with ArithDecay\n",
      "[ 5  6  7  0  1  2  4  3  8 15  9 10 11 12 13 14]\n",
      "49.930809303501405\n"
     ]
    },
    {
     "name": "stderr",
     "output_type": "stream",
     "text": [
      "/home/kellgon/.local/lib/python3.6/site-packages/mlrose/algorithms.py:311: RuntimeWarning: overflow encountered in exp\n",
      "  prob = np.exp(delta_e/temp)\n"
     ]
    },
    {
     "name": "stdout",
     "output_type": "stream",
     "text": [
      "Simulated annealing with ExpDecay\n",
      "[ 1  4  7  0  6  5 15 14 13 12 11 10  9  8  3  2]\n",
      "51.054900998200694\n"
     ]
    }
   ],
   "source": [
    "# Solve problem using simulated annealing\n",
    "\n",
    "# Define decay schedule\n",
    "schedule = mlrose.GeomDecay()\n",
    "\n",
    "\n",
    "best_state, best_fitness = mlrose.simulated_annealing(problem_fit_coord, schedule=schedule,\n",
    "                                              max_attempts = 1000, random_state = 3)\n",
    "\n",
    "print(\"Simulated annealing with GeomDecay\")\n",
    "print(best_state)\n",
    "print(best_fitness)\n",
    "\n",
    "################\n",
    "schedule = mlrose.ArithDecay()\n",
    "best_state, best_fitness = mlrose.simulated_annealing(problem_fit_coord, schedule=schedule,\n",
    "                                              max_attempts = 1000, random_state = 3)\n",
    "\n",
    "print(\"Simulated annealing with ArithDecay\")\n",
    "print(best_state)\n",
    "print(best_fitness)\n",
    "\n",
    "################\n",
    "schedule = mlrose.ExpDecay()\n",
    "best_state, best_fitness = mlrose.simulated_annealing(problem_fit_coord, schedule=schedule,\n",
    "                                              max_attempts = 1000, random_state = 3)\n",
    "\n",
    "print(\"Simulated annealing with ExpDecay\")\n",
    "print(best_state)\n",
    "print(best_fitness)"
   ]
  },
  {
   "cell_type": "markdown",
   "metadata": {},
   "source": [
    "# MIMIC"
   ]
  },
  {
   "cell_type": "code",
   "execution_count": null,
   "metadata": {},
   "outputs": [],
   "source": [
    "# Solve problem using mimic\n",
    "pop_size=200 #(300 was 71 and 100 was 74)\n",
    "max_attempts=100\n",
    "keep_pct=0.1 \n",
    "\n",
    "best_state, best_fitness = mlrose.mimic(problem_fit_coord, pop_size=pop_size, keep_pct=keep_pct,\n",
    "                                              max_attempts = max_attempts, random_state = 3)\n",
    "print(\"MIMIC with Keep_PCT of \", keep_pct)\n",
    "print(best_state)\n",
    "print(best_fitness)\n",
    "\n",
    "################\n",
    "keep_pct=0.2 \n",
    "\n",
    "best_state, best_fitness = mlrose.mimic(problem_fit_coord, pop_size=pop_size, keep_pct=keep_pct,\n",
    "                                              max_attempts = max_attempts, random_state = 3)\n",
    "print(\"MIMIC with Keep_PCT of \", keep_pct)\n",
    "print(best_state)\n",
    "print(best_fitness)\n",
    "\n",
    "######################\n",
    "keep_pct=0.3 \n",
    "\n",
    "best_state, best_fitness = mlrose.mimic(problem_fit_coord, pop_size=pop_size, keep_pct=keep_pct,\n",
    "                                              max_attempts = max_attempts, random_state = 3)\n",
    "print(\"MIMIC with Keep_PCT of \", keep_pct)\n",
    "print(best_state)\n",
    "print(best_fitness)\n",
    "\n",
    "################\n",
    "keep_pct=0.4 \n",
    "\n",
    "best_state, best_fitness = mlrose.mimic(problem_fit_coord, pop_size=pop_size, keep_pct=keep_pct,\n",
    "                                              max_attempts = max_attempts, random_state = 3)\n",
    "print(\"MIMIC with Keep_PCT of \", keep_pct)\n",
    "print(best_state)\n",
    "print(best_fitness)"
   ]
  },
  {
   "cell_type": "code",
   "execution_count": null,
   "metadata": {},
   "outputs": [],
   "source": []
  },
  {
   "cell_type": "code",
   "execution_count": null,
   "metadata": {},
   "outputs": [],
   "source": []
  },
  {
   "cell_type": "code",
   "execution_count": null,
   "metadata": {},
   "outputs": [],
   "source": [
    "plt.style.use('seaborn')\n",
    "plt.plot(train_sizes, train_scores_mean, label='Training error')\n",
    "plt.plot(train_sizes, validation_scores_mean, label='Validation error')\n",
    "\n",
    "plt.ylabel('Accuracy', fontsize=14)\n",
    "plt.xlabel('Training set size', fontsize = 14)\n",
    "plt.title('Learning Curves for KNN', fontsize=18, y=1.03)\n",
    "plt.legend()"
   ]
  },
  {
   "cell_type": "code",
   "execution_count": null,
   "metadata": {},
   "outputs": [],
   "source": []
  },
  {
   "cell_type": "code",
   "execution_count": null,
   "metadata": {},
   "outputs": [],
   "source": []
  }
 ],
 "metadata": {
  "kernelspec": {
   "display_name": "Python 3",
   "language": "python",
   "name": "python3"
  },
  "language_info": {
   "codemirror_mode": {
    "name": "ipython",
    "version": 3
   },
   "file_extension": ".py",
   "mimetype": "text/x-python",
   "name": "python",
   "nbconvert_exporter": "python",
   "pygments_lexer": "ipython3",
   "version": "3.6.8"
  }
 },
 "nbformat": 4,
 "nbformat_minor": 4
}
