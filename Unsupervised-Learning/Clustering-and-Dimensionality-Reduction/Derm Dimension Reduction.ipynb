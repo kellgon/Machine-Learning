{
 "cells": [
  {
   "cell_type": "markdown",
   "metadata": {},
   "source": [
    "**Load dataset**"
   ]
  },
  {
   "cell_type": "code",
   "execution_count": 1,
   "metadata": {},
   "outputs": [
    {
     "name": "stdout",
     "output_type": "stream",
     "text": [
      "(358, 35)\n",
      "(286, 33) (286,)\n",
      "(72, 33) (72,)\n"
     ]
    }
   ],
   "source": [
    "import numpy as np\n",
    "import pandas as pd\n",
    "\n",
    "from matplotlib import pyplot as plt\n",
    "%matplotlib inline\n",
    "\n",
    "import sklearn\n",
    "from sklearn.cluster import KMeans\n",
    "from sklearn.mixture import BayesianGaussianMixture\n",
    "from mpl_toolkits.mplot3d import Axes3D\n",
    "from sklearn.preprocessing import scale\n",
    "\n",
    "from sklearn.model_selection import cross_val_score\n",
    "from sklearn.model_selection import GridSearchCV\n",
    "from sklearn.model_selection import train_test_split\n",
    "from sklearn import metrics\n",
    "\n",
    "import sklearn.metrics as sm\n",
    "from sklearn.metrics import adjusted_mutual_info_score,homogeneity_completeness_v_measure\n",
    "\n",
    "from sklearn.decomposition import PCA,FastICA,TruncatedSVD\n",
    "from sklearn.random_projection import GaussianRandomProjection\n",
    "from scipy.stats import kurtosis,entropy\n",
    "\n",
    "derm = np.loadtxt(\"./dermatology2.csv\", delimiter=\",\") #Required deleting the '?' values\n",
    "print(derm.shape)\n",
    "\n",
    "# store feature matrix in \"X\"\n",
    "#X = derm[:,0:33]\n",
    "X = derm[:,0:33]\n",
    "\n",
    "# store response vector in \"y\"\n",
    "#y = derm[:,34]\n",
    "y = derm[:,34]\n",
    "\n",
    "X_train, X_test, y_train, y_test = train_test_split(X, y, test_size=0.2, random_state=3)\n",
    "print (X_train.shape, y_train.shape)\n",
    "print (X_test.shape, y_test.shape)\n",
    "\n"
   ]
  },
  {
   "cell_type": "code",
   "execution_count": 4,
   "metadata": {},
   "outputs": [
    {
     "name": "stdout",
     "output_type": "stream",
     "text": [
      "0     0.351497\n",
      "1     0.188875\n",
      "2     0.074642\n",
      "3     0.047177\n",
      "4     0.037894\n",
      "5     0.033884\n",
      "6     0.026767\n",
      "7     0.024405\n",
      "8     0.021857\n",
      "9     0.020613\n",
      "10    0.019708\n",
      "11    0.017181\n",
      "12    0.015547\n",
      "13    0.014565\n",
      "14    0.011931\n",
      "15    0.010542\n",
      "16    0.010211\n",
      "17    0.009722\n",
      "18    0.009112\n",
      "19    0.008233\n",
      "20    0.006907\n",
      "21    0.005962\n",
      "22    0.004474\n",
      "23    0.004398\n",
      "24    0.004017\n",
      "25    0.003877\n",
      "26    0.003266\n",
      "27    0.002995\n",
      "28    0.002796\n",
      "29    0.002691\n",
      "30    0.002137\n",
      "31    0.001578\n",
      "32    0.000540\n",
      "dtype: float64\n",
      "0.967234174696725\n"
     ]
    },
    {
     "data": {
      "text/plain": [
       "Text(0, 0.5, 'Variance')"
      ]
     },
     "execution_count": 4,
     "metadata": {},
     "output_type": "execute_result"
    },
    {
     "data": {
      "image/png": "[encoded data removed]",
      "text/plain": [
       "<Figure size 432x288 with 1 Axes>"
      ]
     },
     "metadata": {
      "needs_background": "light"
     },
     "output_type": "display_data"
    }
   ],
   "source": [
    "pca = PCA()\n",
    "pca.fit_transform(X)\n",
    "pca_res = pd.Series(pca.explained_variance_ratio_)\n",
    "pca_var = pd.Series(pca.explained_variance_)\n",
    "loss = 0.005\n",
    "\n",
    "print (pca_res)\n",
    "variance = 0\n",
    "for x in pca_res:\n",
    "        if x >= loss:\n",
    "            variance += x\n",
    "print (variance)\n",
    "\n",
    "pca_res.plot(c = 'r',label = 'Variance')\n",
    "ax = pca_var.plot(kind = 'bar',ylim = (0.,0.5),label = \"Variance-Ratio\")\n",
    "plt.legend()\n",
    "\n",
    "plt.title(\"Derm PCA\")\n",
    "plt.xlabel(\"Features\")\n",
    "plt.ylabel(\"Variance\")"
   ]
  },
  {
   "cell_type": "code",
   "execution_count": 5,
   "metadata": {},
   "outputs": [
    {
     "name": "stdout",
     "output_type": "stream",
     "text": [
      "22\n",
      "MEAN 1.2367136451724276e-17\n",
      "STD 0.1558864249478629\n",
      "MAX 1.467519377347649\n",
      "MIN -2.12304555311176\n"
     ]
    }
   ],
   "source": [
    "pca = PCA(22)\n",
    "temp = pca.fit_transform(X)\n",
    "diff = X - pca.inverse_transform(temp)\n",
    "print(22)\n",
    "print(\"MEAN\", np.mean(diff))\n",
    "print(\"STD\", np.std(diff))\n",
    "print(\"MAX\", np.max(diff))\n",
    "print(\"MIN\", np.min(diff))"
   ]
  },
  {
   "cell_type": "markdown",
   "metadata": {},
   "source": [
    "# ICA"
   ]
  },
  {
   "cell_type": "code",
   "execution_count": 7,
   "metadata": {},
   "outputs": [
    {
     "name": "stdout",
     "output_type": "stream",
     "text": [
      "0.967234174696725\n",
      "12  out of  33\n"
     ]
    },
    {
     "data": {
      "text/plain": [
       "Text(0, 0.5, 'Kurtosis')"
      ]
     },
     "execution_count": 7,
     "metadata": {},
     "output_type": "execute_result"
    },
    {
     "data": {
      "image/png": "[encoded data removed]",
      "text/plain": [
       "<Figure size 432x288 with 1 Axes>"
      ]
     },
     "metadata": {
      "needs_background": "light"
     },
     "output_type": "display_data"
    }
   ],
   "source": [
    "ica = FastICA(tol = 0.005)\n",
    "temp = ica.fit_transform(X)\n",
    "order = [-abs(kurtosis(temp[:,i])) for i in range(temp.shape[1])]\n",
    "temp = temp[:,np.array(order).argsort()]\n",
    "ica_res =  pd.Series([abs(kurtosis(temp[:,i])) for i in range(temp.shape[1])]);\n",
    "\n",
    "variance = 0\n",
    "reduced = 0\n",
    "for x in pca_res:\n",
    "        if x >= loss:\n",
    "            variance += x\n",
    "            reduced +=1\n",
    "print (variance)\n",
    "print (1 +X.shape[1] - reduced, \" out of \", X.shape[1])\n",
    "\n",
    "ax = ica_res.plot(kind = 'bar');\n",
    "plt.title(\"Derm ICA\")\n",
    "plt.xlabel(\"Features\")\n",
    "plt.ylabel(\"Kurtosis\")"
   ]
  },
  {
   "cell_type": "code",
   "execution_count": 8,
   "metadata": {},
   "outputs": [
    {
     "name": "stdout",
     "output_type": "stream",
     "text": [
      "20\n",
      "MEAN 8.570538331286125e-18\n",
      "STD 0.1839686483675256\n",
      "MAX 1.7709329511241378\n",
      "MIN -2.134096849761751\n"
     ]
    },
    {
     "name": "stderr",
     "output_type": "stream",
     "text": [
      "/home/kellgon/.local/lib/python3.6/site-packages/sklearn/decomposition/_fastica.py:119: ConvergenceWarning: FastICA did not converge. Consider increasing tolerance or the maximum number of iterations.\n",
      "  ConvergenceWarning)\n"
     ]
    },
    {
     "name": "stdout",
     "output_type": "stream",
     "text": [
      "21\n",
      "MEAN 8.720898652887636e-18\n",
      "STD 0.1694761058368465\n",
      "MAX 1.645617379089737\n",
      "MIN -2.1250679018627254\n",
      "22\n",
      "MEAN 6.352723587663838e-18\n",
      "STD 0.15588642494786287\n",
      "MAX 1.4675193773476494\n",
      "MIN -2.1230455531117567\n"
     ]
    },
    {
     "name": "stderr",
     "output_type": "stream",
     "text": [
      "/home/kellgon/.local/lib/python3.6/site-packages/sklearn/decomposition/_fastica.py:119: ConvergenceWarning: FastICA did not converge. Consider increasing tolerance or the maximum number of iterations.\n",
      "  ConvergenceWarning)\n"
     ]
    }
   ],
   "source": [
    "for i in range(20,23):\n",
    "    ica = FastICA(i,tol = 0.005)\n",
    "    temp = ica.fit_transform(X)\n",
    "    diff = X - ica.inverse_transform(temp)\n",
    "    print(i)\n",
    "    print(\"MEAN\", np.mean(diff))\n",
    "    print(\"STD\", np.std(diff))\n",
    "    print(\"MAX\", np.max(diff))\n",
    "    print(\"MIN\", np.min(diff))"
   ]
  },
  {
   "cell_type": "markdown",
   "metadata": {},
   "source": [
    "# RCA"
   ]
  },
  {
   "cell_type": "code",
   "execution_count": 29,
   "metadata": {},
   "outputs": [
    {
     "name": "stdout",
     "output_type": "stream",
     "text": [
      "[[ 1.60272014 -2.11906335 -4.07384269 ... -1.33791049 -0.65747947\n",
      "  -2.01235324]\n",
      " [ 4.22779083 -6.08348628 -3.44215517 ...  2.11632446 -0.14275058\n",
      "  -0.12444404]\n",
      " [ 0.46127863 -2.2835206  -4.03701052 ... -2.67061666  2.38437072\n",
      "   0.93563192]\n",
      " ...\n",
      " [ 4.17257043 -1.83030635 -4.70488746 ... -0.42769696  1.09222999\n",
      "  -0.21189724]\n",
      " [ 4.11318131 -0.46305439 -3.40091531 ... -0.35736833 -0.95501697\n",
      "   0.09983061]\n",
      " [ 1.84606322 -2.39875884 -3.7101969  ...  3.58922358 -1.33877895\n",
      "   1.74848843]]\n",
      "MEAN -0.14379824509349892\n",
      "STD 2.014088725429342\n",
      "MAX 5.973844680903739\n",
      "MIN -7.280495919471319\n"
     ]
    }
   ],
   "source": [
    "grp = GaussianRandomProjection(n_components = 11)\n",
    "grp.fit(X)\n",
    "transformed = grp.transform(X)\n",
    "pseudo = grp.components_.T\n",
    "reconstructed = np.dot(X,pseudo)\n",
    "print (reconstructed)\n",
    "\n",
    "print(\"MEAN\", np.mean(reconstructed))\n",
    "print(\"STD\", np.std(reconstructed))\n",
    "print(\"MAX\", np.max(reconstructed))\n",
    "print(\"MIN\", np.min(reconstructed))\n",
    "\n"
   ]
  },
  {
   "cell_type": "markdown",
   "metadata": {},
   "source": [
    "# LDA"
   ]
  },
  {
   "cell_type": "code",
   "execution_count": 30,
   "metadata": {},
   "outputs": [
    {
     "name": "stdout",
     "output_type": "stream",
     "text": [
      "0    0.642723\n",
      "1    0.150587\n",
      "2    0.113517\n",
      "3    0.083710\n",
      "4    0.009462\n",
      "dtype: float64\n",
      "0.9905379889007557\n"
     ]
    },
    {
     "name": "stderr",
     "output_type": "stream",
     "text": [
      "/home/kellgon/.local/lib/python3.6/site-packages/sklearn/discriminant_analysis.py:463: ChangedBehaviorWarning: n_components cannot be larger than min(n_features, n_classes - 1). Using min(n_features, n_classes - 1) = min(33, 6 - 1) = 5 components.\n",
      "  ChangedBehaviorWarning)\n",
      "/home/kellgon/.local/lib/python3.6/site-packages/sklearn/discriminant_analysis.py:469: FutureWarning: In version 0.23, setting n_components > min(n_features, n_classes - 1) will raise a ValueError. You should set n_components to None (default), or a value smaller or equal to min(n_features, n_classes - 1).\n",
      "  warnings.warn(future_msg, FutureWarning)\n"
     ]
    },
    {
     "data": {
      "text/plain": [
       "Text(0, 0.5, 'Variance')"
      ]
     },
     "execution_count": 30,
     "metadata": {},
     "output_type": "execute_result"
    },
    {
     "data": {
      "image/png": "[encoded data removed]",
      "text/plain": [
       "<Figure size 432x288 with 1 Axes>"
      ]
     },
     "metadata": {
      "needs_background": "light"
     },
     "output_type": "display_data"
    }
   ],
   "source": [
    "from sklearn.discriminant_analysis import LinearDiscriminantAnalysis\n",
    "\n",
    "lda = LinearDiscriminantAnalysis(solver='eigen', n_components=11)\n",
    "lda.fit_transform(X, y)\n",
    "lda_res = pd.Series(lda.explained_variance_ratio_)\n",
    "loss = 0.05\n",
    "\n",
    "print (lda_res)\n",
    "variance = 0\n",
    "for x in lda_res:\n",
    "        if x >= loss:\n",
    "            variance += x\n",
    "print (variance)\n",
    "\n",
    "lda_res.plot(c = 'r',label = 'Variance')\n",
    "#ax = pca_var.plot(kind = 'bar',ylim = (0.,0.5),label = \"Variance-Ratio\")\n",
    "plt.legend()\n",
    "\n",
    "plt.title(\"Derm LDA\")\n",
    "plt.xlabel(\"Features\")\n",
    "plt.ylabel(\"Variance\")"
   ]
  },
  {
   "cell_type": "markdown",
   "metadata": {},
   "source": [
    "# SVD"
   ]
  },
  {
   "cell_type": "code",
   "execution_count": 33,
   "metadata": {},
   "outputs": [
    {
     "name": "stdout",
     "output_type": "stream",
     "text": [
      "0     0.080911\n",
      "1     0.351277\n",
      "2     0.140977\n",
      "3     0.070037\n",
      "4     0.043670\n",
      "5     0.037756\n",
      "6     0.030763\n",
      "7     0.024569\n",
      "8     0.024349\n",
      "9     0.021437\n",
      "10    0.019896\n",
      "11    0.017200\n",
      "12    0.015644\n",
      "13    0.014576\n",
      "14    0.012428\n",
      "15    0.010556\n",
      "16    0.010241\n",
      "17    0.010013\n",
      "18    0.009220\n",
      "19    0.008440\n",
      "20    0.006912\n",
      "21    0.005972\n",
      "22    0.004480\n",
      "23    0.004412\n",
      "24    0.004044\n",
      "25    0.003931\n",
      "26    0.003369\n",
      "27    0.003013\n",
      "28    0.002812\n",
      "29    0.002795\n",
      "30    0.002168\n",
      "31    0.001595\n",
      "dtype: float64\n",
      "0.9668418030429269\n",
      "Reduced  12  out of  33\n"
     ]
    },
    {
     "data": {
      "text/plain": [
       "Text(0, 0.5, 'Variance')"
      ]
     },
     "execution_count": 33,
     "metadata": {},
     "output_type": "execute_result"
    },
    {
     "data": {
      "image/png": "[encoded data removed]",
      "text/plain": [
       "<Figure size 432x288 with 1 Axes>"
      ]
     },
     "metadata": {
      "needs_background": "light"
     },
     "output_type": "display_data"
    }
   ],
   "source": [
    "svd = TruncatedSVD(n_components = X.shape[1]-1)\n",
    "temp = svd.fit_transform(X)\n",
    "svd_res = pd.Series(svd.explained_variance_ratio_)\n",
    "svd_var = pd.Series(svd.explained_variance_)\n",
    "\n",
    "loss = 0.005\n",
    "\n",
    "print (svd_res)\n",
    "variance = 0\n",
    "reduced = 0\n",
    "for x in svd_res:\n",
    "        if x >= loss:\n",
    "            variance += x\n",
    "            reduced +=1\n",
    "print (variance)\n",
    "print (\"Reduced \", 1 +X.shape[1] - reduced, \" out of \", X.shape[1])\n",
    "\n",
    "pca_res.plot(c = 'r',label = 'Variance')\n",
    "ax = svd_var.plot(kind = 'bar',ylim = (0.,0.5),label = \"Variance-Ratio\")\n",
    "plt.legend()\n",
    "\n",
    "plt.title(\"Derm SVD\")\n",
    "plt.xlabel(\"Features\")\n",
    "plt.ylabel(\"Variance\")"
   ]
  },
  {
   "cell_type": "code",
   "execution_count": 34,
   "metadata": {},
   "outputs": [
    {
     "name": "stdout",
     "output_type": "stream",
     "text": [
      "3\n",
      "MEAN -1.0593322004923599e-07\n",
      "STD 0.020011299819267855\n",
      "MAX 0.5398029008513023\n",
      "MIN -0.6226774127047054\n"
     ]
    }
   ],
   "source": [
    "svd = TruncatedSVD(n_components = X.shape[1]-1)\n",
    "temp = svd.fit_transform(X)\n",
    "diff = X - svd.inverse_transform(temp)\n",
    "print(3)\n",
    "print(\"MEAN\", np.mean(diff))\n",
    "print(\"STD\", np.std(diff))\n",
    "print(\"MAX\", np.max(diff))\n",
    "print(\"MIN\", np.min(diff))"
   ]
  },
  {
   "cell_type": "code",
   "execution_count": null,
   "metadata": {},
   "outputs": [],
   "source": []
  },
  {
   "cell_type": "code",
   "execution_count": null,
   "metadata": {},
   "outputs": [],
   "source": []
  },
  {
   "cell_type": "code",
   "execution_count": null,
   "metadata": {},
   "outputs": [],
   "source": []
  }
 ],
 "metadata": {
  "kernelspec": {
   "display_name": "Python 3",
   "language": "python",
   "name": "python3"
  },
  "language_info": {
   "codemirror_mode": {
    "name": "ipython",
    "version": 3
   },
   "file_extension": ".py",
   "mimetype": "text/x-python",
   "name": "python",
   "nbconvert_exporter": "python",
   "pygments_lexer": "ipython3",
   "version": "3.6.8"
  }
 },
 "nbformat": 4,
 "nbformat_minor": 4
}
