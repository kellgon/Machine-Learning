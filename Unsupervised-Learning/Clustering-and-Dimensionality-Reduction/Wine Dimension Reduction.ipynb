{
 "cells": [
  {
   "cell_type": "markdown",
   "metadata": {},
   "source": [
    "**Load dataset**"
   ]
  },
  {
   "cell_type": "code",
   "execution_count": 1,
   "metadata": {},
   "outputs": [
    {
     "name": "stdout",
     "output_type": "stream",
     "text": [
      "(4898, 12)\n",
      "(3918, 10) (3918,)\n",
      "(980, 10) (980,)\n"
     ]
    }
   ],
   "source": [
    "import numpy as np\n",
    "import pandas as pd\n",
    "\n",
    "from matplotlib import pyplot as plt\n",
    "%matplotlib inline\n",
    "\n",
    "import sklearn\n",
    "from sklearn.cluster import KMeans\n",
    "from sklearn.mixture import BayesianGaussianMixture\n",
    "from mpl_toolkits.mplot3d import Axes3D\n",
    "from sklearn.preprocessing import scale\n",
    "\n",
    "from sklearn.model_selection import cross_val_score\n",
    "from sklearn.model_selection import GridSearchCV\n",
    "from sklearn.model_selection import train_test_split\n",
    "from sklearn import metrics\n",
    "import sklearn.metrics as sm\n",
    "\n",
    "from sklearn.decomposition import PCA,FastICA,TruncatedSVD\n",
    "from sklearn.random_projection import GaussianRandomProjection\n",
    "from scipy.stats import kurtosis,entropy\n",
    "\n",
    "\n",
    "wine = np.loadtxt(\"./winequality-white2.csv\", delimiter=\",\") #required deleting the headers for this to work\n",
    "\n",
    "print (wine.shape)\n",
    "\n",
    "# store feature matrix in \"X\"\n",
    "X = wine[:,0:10]\n",
    "\n",
    "# store response vector in \"y\"\n",
    "y = wine[:,11]\n",
    "\n",
    "X_train, X_test, y_train, y_test = train_test_split(X, y, test_size=0.2, random_state=3)\n",
    "print (X_train.shape, y_train.shape)\n",
    "print (X_test.shape, y_test.shape)\n",
    "\n"
   ]
  },
  {
   "cell_type": "markdown",
   "metadata": {},
   "source": [
    "# PCA"
   ]
  },
  {
   "cell_type": "code",
   "execution_count": 7,
   "metadata": {},
   "outputs": [
    {
     "name": "stdout",
     "output_type": "stream",
     "text": [
      "0    9.101644e-01\n",
      "1    7.938720e-02\n",
      "2    1.009541e-02\n",
      "3    3.277469e-04\n",
      "4    8.746497e-06\n",
      "5    6.742692e-06\n",
      "6    5.396482e-06\n",
      "7    4.175831e-06\n",
      "8    2.109709e-07\n",
      "9    6.983392e-10\n",
      "dtype: float64\n",
      "0.9996469799048172\n",
      "8  out of  10\n"
     ]
    },
    {
     "data": {
      "text/plain": [
       "Text(0, 0.5, 'Variance')"
      ]
     },
     "execution_count": 7,
     "metadata": {},
     "output_type": "execute_result"
    },
    {
     "data": {
      "image/png": "[encoded data removed]",
      "text/plain": [
       "<Figure size 432x288 with 1 Axes>"
      ]
     },
     "metadata": {
      "needs_background": "light"
     },
     "output_type": "display_data"
    }
   ],
   "source": [
    "pca = PCA()\n",
    "pca.fit_transform(X)\n",
    "pca_res = pd.Series(pca.explained_variance_ratio_)\n",
    "pca_var = pd.Series(pca.explained_variance_)\n",
    "loss = 0.001\n",
    "\n",
    "print (pca_res)\n",
    "variance = 0\n",
    "reduced = 0\n",
    "for x in pca_res:\n",
    "        if x >= loss:\n",
    "            variance += x\n",
    "            reduced +=1\n",
    "print (variance)\n",
    "print ( 1 +X.shape[1] - reduced, \" out of \", X.shape[1])\n",
    "\n",
    "pca_res.plot(c = 'r',label = 'Variance')\n",
    "ax = pca_var.plot(kind = 'bar',ylim = (0.,0.5),label = \"Variance-Ratio\")\n",
    "plt.legend()\n",
    "\n",
    "plt.title(\"Wine PCA\")\n",
    "plt.xlabel(\"Features\")\n",
    "plt.ylabel(\"Variance\")"
   ]
  },
  {
   "cell_type": "code",
   "execution_count": 4,
   "metadata": {},
   "outputs": [
    {
     "name": "stdout",
     "output_type": "stream",
     "text": [
      "3\n",
      "MEAN 3.3040672416643614e-15\n",
      "STD 0.2736594078576007\n",
      "MAX 7.33069081484925\n",
      "MIN -3.1658607830548577\n"
     ]
    }
   ],
   "source": [
    "pca = PCA(3)\n",
    "temp = pca.fit_transform(X)\n",
    "diff = X - pca.inverse_transform(temp)\n",
    "print(3)\n",
    "print(\"MEAN\", np.mean(diff))\n",
    "print(\"STD\", np.std(diff))\n",
    "print(\"MAX\", np.max(diff))\n",
    "print(\"MIN\", np.min(diff))"
   ]
  },
  {
   "cell_type": "markdown",
   "metadata": {},
   "source": [
    "# ICA"
   ]
  },
  {
   "cell_type": "code",
   "execution_count": 6,
   "metadata": {},
   "outputs": [
    {
     "name": "stdout",
     "output_type": "stream",
     "text": [
      "0.9996469799048172\n",
      "8  out of  10\n"
     ]
    },
    {
     "data": {
      "text/plain": [
       "Text(0, 0.5, 'Kurtosis')"
      ]
     },
     "execution_count": 6,
     "metadata": {},
     "output_type": "execute_result"
    },
    {
     "data": {
      "image/png": "[encoded data removed]",
      "text/plain": [
       "<Figure size 432x288 with 1 Axes>"
      ]
     },
     "metadata": {
      "needs_background": "light"
     },
     "output_type": "display_data"
    }
   ],
   "source": [
    "ica = FastICA(tol = 0.005)\n",
    "temp = ica.fit_transform(X)\n",
    "order = [-abs(kurtosis(temp[:,i])) for i in range(temp.shape[1])]\n",
    "temp = temp[:,np.array(order).argsort()]\n",
    "ica_res =  pd.Series([abs(kurtosis(temp[:,i])) for i in range(temp.shape[1])]);\n",
    "\n",
    "\n",
    "variance = 0\n",
    "reduced = 0\n",
    "for x in pca_res:\n",
    "        if x >= loss:\n",
    "            variance += x\n",
    "            reduced +=1\n",
    "print (variance)\n",
    "print (1 +X.shape[1] - reduced, \" out of \", X.shape[1])\n",
    "\n",
    "ax = ica_res.plot(kind = 'bar');\n",
    "plt.title(\"Wine ICA\")\n",
    "plt.xlabel(\"Features\")\n",
    "plt.ylabel(\"Kurtosis\")"
   ]
  },
  {
   "cell_type": "code",
   "execution_count": 7,
   "metadata": {
    "scrolled": true
   },
   "outputs": [
    {
     "name": "stdout",
     "output_type": "stream",
     "text": [
      "1\n",
      "MEAN 2.1864638859485975e-15\n",
      "STD 4.365509928379244\n",
      "MAX 160.18221270646268\n",
      "MIN -57.53122983624303\n",
      "2\n",
      "MEAN 2.2502937764619587e-15\n",
      "STD 1.4887993370704629\n",
      "MAX 59.09451886147258\n",
      "MIN -22.86979212729493\n",
      "3\n",
      "MEAN 3.30638832859212e-15\n",
      "STD 0.2736594078576006\n",
      "MAX 7.330690814849235\n",
      "MIN -3.1658607830548346\n",
      "4\n",
      "MEAN 1.3870670412352385e-15\n",
      "STD 0.07322182286223271\n",
      "MAX 1.3072549093730095\n",
      "MIN -0.376137999639115\n",
      "5\n",
      "MEAN 9.51573106414532e-16\n",
      "STD 0.059211137101242914\n",
      "MAX 1.309104397052103\n",
      "MIN -0.34851509572774214\n",
      "6\n",
      "MEAN 7.258474026900084e-16\n",
      "STD 0.045558403383544645\n",
      "MAX 0.6611478759522036\n",
      "MIN -0.37686790634832534\n",
      "7\n",
      "MEAN 8.732364226026792e-16\n",
      "STD 0.03050838681901428\n",
      "MAX 0.6381215474121726\n",
      "MIN -0.20146564656536772\n",
      "8\n",
      "MEAN 5.92019967824974e-16\n",
      "STD 0.006700998521507194\n",
      "MAX 0.2948471614867066\n",
      "MIN -0.045610200766728504\n",
      "9\n",
      "MEAN 6.506064459011894e-16\n",
      "STD 0.00038489642333122226\n",
      "MAX 0.015696542322171325\n",
      "MIN -0.0059011272969919926\n",
      "10\n",
      "MEAN -1.429574353954174e-17\n",
      "STD 2.5838054140922777e-13\n",
      "MAX 4.689582056016661e-12\n",
      "MIN -1.057287590811029e-11\n"
     ]
    }
   ],
   "source": [
    "for i in range(1,11):\n",
    "    ica = FastICA(i,tol = 0.005)\n",
    "    temp = ica.fit_transform(X)\n",
    "    diff = X - ica.inverse_transform(temp)\n",
    "    print(i)\n",
    "    print(\"MEAN\", np.mean(diff))\n",
    "    print(\"STD\", np.std(diff))\n",
    "    print(\"MAX\", np.max(diff))\n",
    "    print(\"MIN\", np.min(diff))"
   ]
  },
  {
   "cell_type": "markdown",
   "metadata": {},
   "source": [
    "# RCA"
   ]
  },
  {
   "cell_type": "code",
   "execution_count": 8,
   "metadata": {},
   "outputs": [
    {
     "name": "stdout",
     "output_type": "stream",
     "text": [
      "[[25.19018803 36.65942184 41.16813852]\n",
      " [28.98252974 14.23540642 44.10684504]\n",
      " [ 8.58246584 18.05819795 23.2540415 ]\n",
      " ...\n",
      " [13.84918648 18.27922635 32.6636342 ]\n",
      " [19.53066496 14.98355875 35.18958619]\n",
      " [14.37847718 14.2704454  30.14286665]]\n",
      "MEAN 27.816435338809228\n",
      "STD 14.372811481391844\n",
      "MAX 152.25346648384155\n",
      "MIN -20.05117299202958\n"
     ]
    }
   ],
   "source": [
    "grp = GaussianRandomProjection(n_components = 3)\n",
    "grp.fit(X)\n",
    "transformed = grp.transform(X)\n",
    "pseudo = grp.components_.T\n",
    "reconstructed = np.dot(X,pseudo)\n",
    "print (reconstructed)\n",
    "\n",
    "print(\"MEAN\", np.mean(reconstructed))\n",
    "print(\"STD\", np.std(reconstructed))\n",
    "print(\"MAX\", np.max(reconstructed))\n",
    "print(\"MIN\", np.min(reconstructed))"
   ]
  },
  {
   "cell_type": "markdown",
   "metadata": {},
   "source": [
    "# LDA"
   ]
  },
  {
   "cell_type": "code",
   "execution_count": 16,
   "metadata": {},
   "outputs": [
    {
     "name": "stdout",
     "output_type": "stream",
     "text": [
      "0    0.830357\n",
      "1    0.117993\n",
      "2    0.034253\n",
      "3    0.012072\n",
      "4    0.003473\n",
      "5    0.001853\n",
      "dtype: float64\n",
      "0.9483493623922482\n"
     ]
    },
    {
     "name": "stderr",
     "output_type": "stream",
     "text": [
      "/home/kellgon/.local/lib/python3.6/site-packages/sklearn/discriminant_analysis.py:463: ChangedBehaviorWarning: n_components cannot be larger than min(n_features, n_classes - 1). Using min(n_features, n_classes - 1) = min(10, 7 - 1) = 6 components.\n",
      "  ChangedBehaviorWarning)\n",
      "/home/kellgon/.local/lib/python3.6/site-packages/sklearn/discriminant_analysis.py:469: FutureWarning: In version 0.23, setting n_components > min(n_features, n_classes - 1) will raise a ValueError. You should set n_components to None (default), or a value smaller or equal to min(n_features, n_classes - 1).\n",
      "  warnings.warn(future_msg, FutureWarning)\n"
     ]
    },
    {
     "data": {
      "text/plain": [
       "Text(0, 0.5, 'Variance')"
      ]
     },
     "execution_count": 16,
     "metadata": {},
     "output_type": "execute_result"
    },
    {
     "data": {
      "image/png": "[encoded data removed]",
      "text/plain": [
       "<Figure size 432x288 with 1 Axes>"
      ]
     },
     "metadata": {
      "needs_background": "light"
     },
     "output_type": "display_data"
    }
   ],
   "source": [
    "from sklearn.discriminant_analysis import LinearDiscriminantAnalysis\n",
    "\n",
    "lda = LinearDiscriminantAnalysis(solver='eigen', n_components=11)\n",
    "lda.fit_transform(X, y)\n",
    "lda_res = pd.Series(lda.explained_variance_ratio_)\n",
    "loss = 0.05\n",
    "\n",
    "print (lda_res)\n",
    "variance = 0\n",
    "for x in lda_res:\n",
    "        if x >= loss:\n",
    "            variance += x\n",
    "print (variance)\n",
    "\n",
    "lda_res.plot(c = 'r',label = 'Variance')\n",
    "#ax = lda_var.plot(kind = 'bar',ylim = (0.,0.5),label = \"Variance-Ratio\")\n",
    "plt.legend()\n",
    "\n",
    "plt.title(\"Wine LDA\")\n",
    "plt.xlabel(\"Features\")\n",
    "plt.ylabel(\"Variance\")"
   ]
  },
  {
   "cell_type": "markdown",
   "metadata": {},
   "source": [
    "# SVD"
   ]
  },
  {
   "cell_type": "code",
   "execution_count": 25,
   "metadata": {},
   "outputs": [
    {
     "name": "stdout",
     "output_type": "stream",
     "text": [
      "0    9.079336e-01\n",
      "1    7.956941e-02\n",
      "2    1.009895e-02\n",
      "3    2.295584e-03\n",
      "4    8.513437e-05\n",
      "5    6.779703e-06\n",
      "6    5.526906e-06\n",
      "7    4.306592e-06\n",
      "8    4.938483e-07\n",
      "dtype: float64\n",
      "0.9976019675123182\n",
      "Reduced  8  out of  10\n",
      "Reduced Dimension: 8 out of 10\n"
     ]
    },
    {
     "data": {
      "image/png": "[encoded data removed]",
      "text/plain": [
       "<Figure size 432x288 with 1 Axes>"
      ]
     },
     "metadata": {
      "needs_background": "light"
     },
     "output_type": "display_data"
    }
   ],
   "source": [
    "svd = TruncatedSVD(n_components = X.shape[1]-1)\n",
    "temp = svd.fit_transform(X)\n",
    "svd_res = pd.Series(svd.explained_variance_ratio_)\n",
    "svd_var = pd.Series(svd.explained_variance_)\n",
    "\n",
    "loss = 0.01\n",
    "\n",
    "print (svd_res)\n",
    "variance = 0\n",
    "reduced = 0\n",
    "for x in svd_res:\n",
    "        if x >= loss:\n",
    "            variance += x\n",
    "            reduced +=1\n",
    "print (variance)\n",
    "print (\"Reduced \", 1 +X.shape[1] - reduced, \" out of \", X.shape[1])\n",
    "\n",
    "pca_res.plot(c = 'r',label = 'Variance')\n",
    "ax = svd_var.plot(kind = 'bar',ylim = (0.,0.5),label = \"Variance-Ratio\")\n",
    "plt.legend()\n",
    "\n",
    "plt.title(\"Wine SVD\")\n",
    "plt.xlabel(\"Features\")\n",
    "plt.ylabel(\"Variance\")\n"
   ]
  },
  {
   "cell_type": "code",
   "execution_count": 31,
   "metadata": {},
   "outputs": [
    {
     "name": "stdout",
     "output_type": "stream",
     "text": [
      "3\n",
      "MEAN -6.904302624077823e-06\n",
      "STD 0.0066225336084945055\n",
      "MAX 0.28797797464462016\n",
      "MIN -0.04691380872457407\n"
     ]
    }
   ],
   "source": [
    "svd = TruncatedSVD(n_components = X.shape[1]-1)\n",
    "temp = svd.fit_transform(X)\n",
    "diff = X - svd.inverse_transform(temp)\n",
    "print(3)\n",
    "print(\"MEAN\", np.mean(diff))\n",
    "print(\"STD\", np.std(diff))\n",
    "print(\"MAX\", np.max(diff))\n",
    "print(\"MIN\", np.min(diff))"
   ]
  },
  {
   "cell_type": "code",
   "execution_count": null,
   "metadata": {},
   "outputs": [],
   "source": []
  },
  {
   "cell_type": "code",
   "execution_count": null,
   "metadata": {},
   "outputs": [],
   "source": []
  }
 ],
 "metadata": {
  "kernelspec": {
   "display_name": "Python 3",
   "language": "python",
   "name": "python3"
  },
  "language_info": {
   "codemirror_mode": {
    "name": "ipython",
    "version": 3
   },
   "file_extension": ".py",
   "mimetype": "text/x-python",
   "name": "python",
   "nbconvert_exporter": "python",
   "pygments_lexer": "ipython3",
   "version": "3.6.8"
  }
 },
 "nbformat": 4,
 "nbformat_minor": 4
}
