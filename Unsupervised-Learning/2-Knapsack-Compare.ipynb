{
 "cells": [
  {
   "cell_type": "markdown",
   "metadata": {},
   "source": [
    "## Problem 2 - Knapsack"
   ]
  },
  {
   "cell_type": "code",
   "execution_count": 1,
   "metadata": {},
   "outputs": [
    {
     "name": "stderr",
     "output_type": "stream",
     "text": [
      "/home/kellgon/.local/lib/python3.6/site-packages/sklearn/externals/six.py:31: FutureWarning: The module is deprecated in version 0.21 and will be removed in version 0.23 since we've dropped support for Python 2.7. Please rely on the official version of six (https://pypi.org/project/six/).\n",
      "  \"(https://pypi.org/project/six/).\", FutureWarning)\n"
     ]
    }
   ],
   "source": [
    "import mlrose\n",
    "import numpy as np\n",
    "import pandas as pd\n",
    "from sklearn import metrics\n",
    "from matplotlib import pyplot as plt\n",
    "%matplotlib inline\n",
    "\n",
    "weights = [10, 5, 2, 8, 15, 11, 12, 4, 9, 7, 1, 6, 4, 7, 12, 23, 1, 16, 7, 9, 20, 25, 22, 28, 25, 21, 22, 24, 29, 27, 21, 26, 24, 27, 12, 33, 31, 36, 37, 39]\n",
    "values = [1, 2, 3, 4, 5, 3, 5, 4, 3, 2, 7, 4, 3, 1, 6, 3, 6, 1, 2, 1, 7, 8, 9, 9, 8, 7, 6, 5, 7, 6, 7, 7, 8, 9, 10, 8, 5, 6, 7, 9]\n",
    "max_weight_pct = 0.6\n",
    "fitness = mlrose.Knapsack(weights, values, max_weight_pct)\n",
    "problem_fit = mlrose.DiscreteOpt(length = len(weights), fitness_fn=fitness)"
   ]
  },
  {
   "cell_type": "markdown",
   "metadata": {},
   "source": [
    "# Genetic"
   ]
  },
  {
   "cell_type": "code",
   "execution_count": 9,
   "metadata": {},
   "outputs": [
    {
     "name": "stdout",
     "output_type": "stream",
     "text": [
      "Mutation =  0.1\n",
      "[0 0 1 1 1 0 1 1 1 0 1 1 0 1 1 1 1 0 1 0 1 0 1 1 1 1 1 0 0 0 1 1 1 1 1 1 1\n",
      " 0 0 0]\n",
      "153.0\n"
     ]
    }
   ],
   "source": [
    "# define the parameter values that should be searched\n",
    "pop_size=200\n",
    "max_attempts = 1000\n",
    "\n",
    "mutation_prob= 0.1\n",
    "\n",
    "best_state, best_fitness, genetic_fitness_curve = mlrose.genetic_alg(problem_fit, mutation_prob = mutation_prob, pop_size=pop_size,\n",
    "                                              max_attempts = max_attempts, random_state = 3, curve=True)\n",
    "print(\"Mutation = \", mutation_prob)\n",
    "print(best_state)\n",
    "print(best_fitness)\n",
    "\n"
   ]
  },
  {
   "cell_type": "markdown",
   "metadata": {},
   "source": [
    "# Random Hill"
   ]
  },
  {
   "cell_type": "code",
   "execution_count": 3,
   "metadata": {},
   "outputs": [
    {
     "name": "stdout",
     "output_type": "stream",
     "text": [
      "[0 0 1 1 0 0 0 1 1 1 1 1 1 1 1 1 1 0 0 0 1 1 1 0 1 0 1 0 0 1 1 1 0 1 1 0 1\n",
      " 1 0 1]\n",
      "143.0\n"
     ]
    }
   ],
   "source": [
    "# Solve problem using the random hill climb\n",
    "max_attempts = 1000\n",
    "best_state, best_fitness, random_fitness_curve = mlrose.random_hill_climb(problem_fit,\n",
    "                                              max_attempts = max_attempts, random_state = 3, curve=True)\n",
    "\n",
    "print(best_state)\n",
    "print(best_fitness)"
   ]
  },
  {
   "cell_type": "markdown",
   "metadata": {},
   "source": [
    "# Simulated Annealing"
   ]
  },
  {
   "cell_type": "code",
   "execution_count": 4,
   "metadata": {},
   "outputs": [
    {
     "name": "stdout",
     "output_type": "stream",
     "text": [
      "Simulated annealing with ArithDecay\n",
      "[0 1 1 1 1 1 0 1 1 0 1 1 1 0 1 0 1 0 1 0 1 1 1 0 1 0 1 0 0 1 1 1 0 1 1 0 1\n",
      " 1 0 1]\n",
      "149.0\n"
     ]
    }
   ],
   "source": [
    "# Solve problem using simulated annealing\n",
    "\n",
    "\n",
    "schedule = mlrose.ArithDecay()\n",
    "best_state, best_fitness, annealing_fitness_curve = mlrose.simulated_annealing(problem_fit, schedule=schedule,\n",
    "                                              max_attempts = max_attempts, random_state = 3, curve=True)\n",
    "\n",
    "print(\"Simulated annealing with ArithDecay\")\n",
    "print(best_state)\n",
    "print(best_fitness)\n",
    "\n"
   ]
  },
  {
   "cell_type": "markdown",
   "metadata": {},
   "source": [
    "# MIMIC"
   ]
  },
  {
   "cell_type": "code",
   "execution_count": 5,
   "metadata": {},
   "outputs": [
    {
     "name": "stdout",
     "output_type": "stream",
     "text": [
      "MIMIC with Keep_PCT of  0.3\n",
      "[0 1 1 1 1 1 1 1 1 1 1 1 1 1 1 0 1 0 1 0 1 1 1 1 1 1 1 0 1 1 1 0 1 1 1 0 0\n",
      " 0 0 0]\n",
      "161.0\n"
     ]
    }
   ],
   "source": [
    "# Solve problem using mimic\n",
    "pop_size=200 \n",
    "max_attempts=100\n",
    "keep_pct=0.3 \n",
    "\n",
    "best_state, best_fitness, mimic_fitness_curve = mlrose.mimic(problem_fit, pop_size=pop_size, keep_pct=keep_pct,\n",
    "                                              max_attempts = max_attempts, random_state = 3, curve=True)\n",
    "print(\"MIMIC with Keep_PCT of \", keep_pct)\n",
    "print(best_state)\n",
    "print(best_fitness)\n",
    "\n"
   ]
  },
  {
   "cell_type": "code",
   "execution_count": 11,
   "metadata": {},
   "outputs": [
    {
     "data": {
      "text/plain": [
       "<matplotlib.legend.Legend at 0x7f45d862c208>"
      ]
     },
     "execution_count": 11,
     "metadata": {},
     "output_type": "execute_result"
    },
    {
     "data": {
      "image/png": "[encoded data removed]",
      "text/plain": [
       "<Figure size 576x396 with 1 Axes>"
      ]
     },
     "metadata": {},
     "output_type": "display_data"
    }
   ],
   "source": [
    "plt.style.use('seaborn')\n",
    "plt.plot(genetic_fitness_curve, label='Genetic')\n",
    "plt.plot(random_fitness_curve, label='Random Hill')\n",
    "plt.plot(annealing_fitness_curve, label='Annealing')\n",
    "plt.plot(mimic_fitness_curve, label='MIMIC')\n",
    "\n",
    "plt.xlim(0,1000)\n",
    "\n",
    "plt.ylabel('Value', fontsize=14)\n",
    "plt.xlabel('Training set size', fontsize = 14)\n",
    "plt.title('Learning Curves for Knapsack', fontsize=18, y=1.03)\n",
    "plt.legend()"
   ]
  },
  {
   "cell_type": "code",
   "execution_count": null,
   "metadata": {},
   "outputs": [],
   "source": []
  },
  {
   "cell_type": "code",
   "execution_count": null,
   "metadata": {},
   "outputs": [],
   "source": []
  },
  {
   "cell_type": "code",
   "execution_count": null,
   "metadata": {},
   "outputs": [],
   "source": []
  },
  {
   "cell_type": "code",
   "execution_count": null,
   "metadata": {},
   "outputs": [],
   "source": []
  }
 ],
 "metadata": {
  "kernelspec": {
   "display_name": "Python 3",
   "language": "python",
   "name": "python3"
  },
  "language_info": {
   "codemirror_mode": {
    "name": "ipython",
    "version": 3
   },
   "file_extension": ".py",
   "mimetype": "text/x-python",
   "name": "python",
   "nbconvert_exporter": "python",
   "pygments_lexer": "ipython3",
   "version": "3.6.8"
  }
 },
 "nbformat": 4,
 "nbformat_minor": 4
}
