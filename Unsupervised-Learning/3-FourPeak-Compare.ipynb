{
 "cells": [
  {
   "cell_type": "markdown",
   "metadata": {},
   "source": [
    "### Problem 3 - FourPeak"
   ]
  },
  {
   "cell_type": "code",
   "execution_count": 1,
   "metadata": {},
   "outputs": [
    {
     "name": "stderr",
     "output_type": "stream",
     "text": [
      "/home/kellgon/.local/lib/python3.6/site-packages/sklearn/externals/six.py:31: FutureWarning: The module is deprecated in version 0.21 and will be removed in version 0.23 since we've dropped support for Python 2.7. Please rely on the official version of six (https://pypi.org/project/six/).\n",
      "  \"(https://pypi.org/project/six/).\", FutureWarning)\n"
     ]
    }
   ],
   "source": [
    "import mlrose\n",
    "import numpy as np\n",
    "import pandas as pd\n",
    "from sklearn import metrics\n",
    "from matplotlib import pyplot as plt\n",
    "%matplotlib inline\n",
    "\n",
    "fitness = mlrose.FourPeaks(t_pct=0.15)\n",
    "\n",
    "problem_fit = mlrose.DiscreteOpt(length=70, fitness_fn=fitness)"
   ]
  },
  {
   "cell_type": "markdown",
   "metadata": {},
   "source": [
    "# Genetic"
   ]
  },
  {
   "cell_type": "code",
   "execution_count": 9,
   "metadata": {
    "scrolled": true
   },
   "outputs": [
    {
     "name": "stdout",
     "output_type": "stream",
     "text": [
      "Mutation =  0.1\n",
      "[1 1 1 1 1 1 1 1 1 1 1 1 0 0 1 0 1 1 1 0 1 1 0 0 1 0 1 0 0 0 0 0 0 0 1 1 0\n",
      " 0 1 0 1 0 0 0 1 1 0 0 1 0 0 0 0 0 0 0 0 0 0 0 0 0 0 0 0 0 0 0 0 0]\n",
      "91.0\n"
     ]
    }
   ],
   "source": [
    "# define the parameter values that should be searched\n",
    "pop_size=400\n",
    "max_attempts = 2000\n",
    "\n",
    "mutation_prob= 0.1\n",
    "\n",
    "best_state, best_fitness, genetic_fitness_curve = mlrose.genetic_alg(problem_fit, mutation_prob = mutation_prob, pop_size=pop_size,\n",
    "                                              max_attempts = max_attempts, random_state = 3, curve=True)\n",
    "print(\"Mutation = \", mutation_prob)\n",
    "print(best_state)\n",
    "print(best_fitness)"
   ]
  },
  {
   "cell_type": "markdown",
   "metadata": {},
   "source": [
    "# Random Hill"
   ]
  },
  {
   "cell_type": "code",
   "execution_count": 3,
   "metadata": {},
   "outputs": [
    {
     "name": "stdout",
     "output_type": "stream",
     "text": [
      "[1 1 1 1 1 1 1 1 1 1 1 1 1 1 1 1 1 1 1 1 1 1 1 1 1 1 1 1 1 1 1 1 1 1 1 1 1\n",
      " 1 1 1 1 1 1 1 1 1 1 1 1 1 1 1 1 1 1 1 1 1 1 1 1 1 1 1 1 1 1 1 1 1]\n",
      "70.0\n"
     ]
    }
   ],
   "source": [
    "# Solve problem using the random hill climb\n",
    "max_attempts = 1000\n",
    "best_state, best_fitness, random_fitness_curve = mlrose.random_hill_climb(problem_fit,\n",
    "                                              max_attempts = max_attempts, random_state = 3, curve=True)\n",
    "\n",
    "print(best_state)\n",
    "print(best_fitness)"
   ]
  },
  {
   "cell_type": "markdown",
   "metadata": {},
   "source": [
    "# Simulated Annealing"
   ]
  },
  {
   "cell_type": "code",
   "execution_count": 4,
   "metadata": {},
   "outputs": [
    {
     "name": "stderr",
     "output_type": "stream",
     "text": [
      "/home/kellgon/.local/lib/python3.6/site-packages/mlrose/algorithms.py:311: RuntimeWarning: overflow encountered in exp\n",
      "  prob = np.exp(delta_e/temp)\n"
     ]
    },
    {
     "name": "stdout",
     "output_type": "stream",
     "text": [
      "Simulated annealing with GeomDecay\n",
      "[0 0 0 0 0 0 0 0 0 0 0 0 0 0 0 0 0 0 0 0 0 0 0 0 0 0 0 0 0 0 0 0 0 0 0 0 0\n",
      " 0 0 0 0 0 0 0 0 0 0 0 0 0 0 0 0 0 0 0 0 0 0 0 0 0 0 0 0 0 0 0 0 0]\n",
      "70.0\n"
     ]
    }
   ],
   "source": [
    "# Solve problem using simulated annealing\n",
    "\n",
    "# Define decay schedule\n",
    "schedule = mlrose.GeomDecay()\n",
    "max_attempts=1000\n",
    "\n",
    "best_state, best_fitness, annealing_fitness_curve = mlrose.simulated_annealing(problem_fit, schedule=schedule,\n",
    "                                              max_attempts = max_attempts, random_state = 3, curve=True)\n",
    "\n",
    "print(\"Simulated annealing with GeomDecay\")\n",
    "print(best_state)\n",
    "print(best_fitness)\n",
    "\n"
   ]
  },
  {
   "cell_type": "markdown",
   "metadata": {},
   "source": [
    "# MIMIC"
   ]
  },
  {
   "cell_type": "code",
   "execution_count": 6,
   "metadata": {},
   "outputs": [
    {
     "name": "stdout",
     "output_type": "stream",
     "text": [
      "MIMIC with Keep_PCT of  0.1\n",
      "[1 1 1 1 1 1 1 1 1 1 1 1 0 0 1 0 0 1 1 1 1 1 0 0 1 1 0 0 0 0 1 1 0 0 1 0 1\n",
      " 1 1 1 1 0 1 0 1 1 1 1 0 1 0 0 0 0 0 0 0 0 0 0 0 0 0 0 0 0 0 0 0 0]\n",
      "90.0\n"
     ]
    }
   ],
   "source": [
    "# Solve problem using mimic\n",
    "pop_size=400 #(300 was 71 and 100 was 74)\n",
    "max_attempts=100\n",
    "keep_pct=0.1 \n",
    "\n",
    "best_state, best_fitness, mimic_fitness_curve = mlrose.mimic(problem_fit, pop_size=pop_size, keep_pct=keep_pct,\n",
    "                                              max_attempts = max_attempts, random_state = 3, curve=True)\n",
    "print(\"MIMIC with Keep_PCT of \", keep_pct)\n",
    "print(best_state)\n",
    "print(best_fitness)"
   ]
  },
  {
   "cell_type": "code",
   "execution_count": 10,
   "metadata": {},
   "outputs": [
    {
     "data": {
      "text/plain": [
       "<matplotlib.legend.Legend at 0x7f5db8ed3278>"
      ]
     },
     "execution_count": 10,
     "metadata": {},
     "output_type": "execute_result"
    },
    {
     "data": {
      "image/png": "[encoded data removed]",
      "text/plain": [
       "<Figure size 576x396 with 1 Axes>"
      ]
     },
     "metadata": {},
     "output_type": "display_data"
    }
   ],
   "source": [
    "plt.style.use('seaborn')\n",
    "plt.plot(genetic_fitness_curve, label='Genetic')\n",
    "plt.plot(random_fitness_curve, label='Random Hill')\n",
    "plt.plot(annealing_fitness_curve, label='Annealing')\n",
    "plt.plot(mimic_fitness_curve, label='MIMIC')\n",
    "\n",
    "plt.xlim(0,4000)\n",
    "\n",
    "plt.ylabel('Value', fontsize=14)\n",
    "plt.xlabel('Training set size', fontsize = 14)\n",
    "plt.title('Learning Curves for Four Peaks', fontsize=18, y=1.03)\n",
    "plt.legend()"
   ]
  },
  {
   "cell_type": "code",
   "execution_count": null,
   "metadata": {},
   "outputs": [],
   "source": []
  },
  {
   "cell_type": "code",
   "execution_count": null,
   "metadata": {},
   "outputs": [],
   "source": []
  },
  {
   "cell_type": "code",
   "execution_count": null,
   "metadata": {},
   "outputs": [],
   "source": []
  },
  {
   "cell_type": "code",
   "execution_count": null,
   "metadata": {},
   "outputs": [],
   "source": []
  },
  {
   "cell_type": "code",
   "execution_count": null,
   "metadata": {},
   "outputs": [],
   "source": []
  }
 ],
 "metadata": {
  "kernelspec": {
   "display_name": "Python 3",
   "language": "python",
   "name": "python3"
  },
  "language_info": {
   "codemirror_mode": {
    "name": "ipython",
    "version": 3
   },
   "file_extension": ".py",
   "mimetype": "text/x-python",
   "name": "python",
   "nbconvert_exporter": "python",
   "pygments_lexer": "ipython3",
   "version": "3.6.8"
  }
 },
 "nbformat": 4,
 "nbformat_minor": 4
}
